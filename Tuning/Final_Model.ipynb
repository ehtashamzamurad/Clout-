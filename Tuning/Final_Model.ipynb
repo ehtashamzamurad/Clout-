{
 "cells": [
  {
   "cell_type": "code",
   "execution_count": 1,
   "metadata": {},
   "outputs": [],
   "source": [
    "#import packages\n",
    "import numpy as np\n",
    "import pandas as pd\n",
    "\n",
    "# visualisation\n",
    "import seaborn as sns\n",
    "import matplotlib.pyplot as plt\n",
    "\n",
    "# import sklearn packages for modelling\n",
    "import sklearn\n",
    "from sklearn.model_selection import train_test_split\n",
    "from sklearn.preprocessing import StandardScaler\n",
    "from sklearn import metrics\n",
    "from sklearn.metrics import classification_report\n",
    "from sklearn.metrics import confusion_matrix\n",
    "from sklearn.metrics import accuracy_score\n",
    "\n",
    "import warnings   #To ignore any warnings\n",
    "warnings.filterwarnings('ignore')\n",
    "\n",
    "pd.set_option(\"display.max_columns\",None)\n",
    "pd.set_option(\"display.max_rows\",None)\n",
    "%matplotlib inline"
   ]
  },
  {
   "cell_type": "code",
   "execution_count": 2,
   "metadata": {},
   "outputs": [],
   "source": [
    "#load data into dataframe\n",
    "df = pd.read_csv('CloutDataSet_clean.csv')"
   ]
  },
  {
   "cell_type": "code",
   "execution_count": 3,
   "metadata": {},
   "outputs": [],
   "source": [
    "#changing taget attribute to numeric\n",
    "di = {'Failed': 0, 'Success': 1}\n",
    "df['Company-Status'].replace(di, inplace=True)\n",
    "#Dropping Date column \n",
    "df = df.drop('Last Funding Date', axis =1)\n",
    "df = df.drop('Est. Founding Date', axis =1)\n",
    "\n",
    "#'Short-Description' and 'Investors' contains many unique values which is not good for model we drop the columns\n",
    "df = df.drop('Short-Description', axis =1)\n",
    "df = df.drop('Investors', axis =1)"
   ]
  },
  {
   "cell_type": "code",
   "execution_count": 4,
   "metadata": {},
   "outputs": [],
   "source": [
    "# we remove target attribute form datafram\n",
    "df_train = df.copy()\n",
    "\n",
    "target = df_train[\"Company-Status\"]\n",
    "\n",
    "X = df_train.drop('Company-Status', axis = 1)\n",
    "y = target\n",
    "train = pd.get_dummies(X)"
   ]
  },
  {
   "cell_type": "code",
   "execution_count": 5,
   "metadata": {},
   "outputs": [],
   "source": [
    "\n",
    "# Split the data into training set (to train the model) and testing set (to test the model)\n",
    "X_train, X_test, y_train, y_test = train_test_split(train,y,test_size=0.25,random_state=40)"
   ]
  },
  {
   "cell_type": "code",
   "execution_count": 6,
   "metadata": {},
   "outputs": [],
   "source": [
    "#Feature Scaling using Standard Scaler\n",
    "sc = StandardScaler()\n",
    "X_train = sc.fit_transform(X_train)\n",
    "X_test = sc.transform(X_test)"
   ]
  },
  {
   "cell_type": "markdown",
   "metadata": {},
   "source": [
    "#https://towardsdatascience.com/logistic-regression-using-python-sklearn-numpy-mnist-handwriting-recognition-matplotlib-a6b31e2b166a\n",
    "#https://machinelearningmastery.com/roc-curves-and-precision-recall-curves-for-classification-in-python/#:~:text=with%20sample%20code).-,ROC%20Curves%20and%20AUC%20in%20Python,probabilities%20for%20the%201%20class.&text=The%20AUC%20for%20the%20ROC,using%20the%20roc_auc_score()%20function.\n",
    "#Importing Model\n",
    "from sklearn.ensemble import RandomForestClassifier\n",
    "from sklearn.metrics import roc_curve\n",
    "from sklearn.metrics import roc_auc_score\n",
    "from matplotlib import pyplot\n",
    "\n",
    "# generate a no skill prediction (majority class)\n",
    "ns_probs = [0 for _ in range(len(y_test))]\n",
    "\n",
    "\n",
    "# Performing predictions on validation dataset\n",
    "logmodel = RandomForestClassifier(n_estimators=100)\n",
    "\n",
    "logmodel.fit(X_train,y_train)\n",
    "\n",
    "# predict target\n",
    "predictions_log = logmodel.predict(X_test)\n",
    "\n",
    "# calculate scores\n",
    "ns_auc = roc_auc_score(y_test, ns_probs)\n",
    "lr_auc = roc_auc_score(y_test, predictions_log)\n",
    "# summarize scores\n",
    "print('No Skill: ROC AUC=%.3f' % (ns_auc))\n",
    "print('Random Forest: ROC AUC=%.3f' % (lr_auc))\n",
    "# calculate roc curves\n",
    "ns_fpr, ns_tpr, _ = roc_curve(y_test, ns_probs)\n",
    "lr_fpr, lr_tpr, _ = roc_curve(y_test, predictions_log)\n",
    "# plot the roc curve for the model\n",
    "pyplot.plot(ns_fpr, ns_tpr, linestyle='--', label='No Skill')\n",
    "pyplot.plot(lr_fpr, lr_tpr, marker='.', label='Random Forest')\n",
    "# axis labels\n",
    "pyplot.xlabel('False Positive Rate')\n",
    "pyplot.ylabel('True Positive Rate')\n",
    "# show the legend\n",
    "pyplot.legend()\n",
    "# show the plot\n",
    "pyplot.show()\n",
    "\n",
    "# Using score method to get accuracy of model\n",
    "accu_log = logmodel.score(X_test, y_test)\n",
    "#Printing accuracy score\n",
    "print(accu_log)"
   ]
  },
  {
   "cell_type": "code",
   "execution_count": 7,
   "metadata": {},
   "outputs": [
    {
     "name": "stdout",
     "output_type": "stream",
     "text": [
      "No Skill: ROC AUC=0.500\n",
      "Gradient boosting: ROC AUC=0.871\n"
     ]
    },
    {
     "data": {
      "image/png": "[encoded data removed]",
      "text/plain": [
       "<Figure size 432x288 with 1 Axes>"
      ]
     },
     "metadata": {
      "needs_background": "light"
     },
     "output_type": "display_data"
    },
    {
     "name": "stdout",
     "output_type": "stream",
     "text": [
      "0.9102564102564102\n"
     ]
    }
   ],
   "source": [
    "#https://towardsdatascience.com/logistic-regression-using-python-sklearn-numpy-mnist-handwriting-recognition-matplotlib-a6b31e2b166a\n",
    "#https://machinelearningmastery.com/roc-curves-and-precision-recall-curves-for-classification-in-python/#:~:text=with%20sample%20code).-,ROC%20Curves%20and%20AUC%20in%20Python,probabilities%20for%20the%201%20class.&text=The%20AUC%20for%20the%20ROC,using%20the%20roc_auc_score()%20function.\n",
    "#Importing Model\n",
    "from sklearn.ensemble import GradientBoostingClassifier\n",
    "from sklearn.metrics import roc_curve\n",
    "from sklearn.metrics import roc_auc_score\n",
    "from matplotlib import pyplot\n",
    "\n",
    "# generate a no skill prediction (majority class)\n",
    "ns_probs = [0 for _ in range(len(y_test))]\n",
    "\n",
    "\n",
    "\n",
    "# Performing predictions on validation dataset\n",
    "gbcmodel = GradientBoostingClassifier(learning_rate=0.2, n_estimators=100,max_depth=3,\n",
    "                                      min_samples_split=2, min_samples_leaf=1, subsample=1,max_features='sqrt', random_state=10)\n",
    "\n",
    "gbcmodel.fit(X_train,y_train)\n",
    "\n",
    "# predict target\n",
    "predictions_gbc = gbcmodel.predict(X_test)\n",
    "\n",
    "# calculate scores\n",
    "ns_auc = roc_auc_score(y_test, ns_probs)\n",
    "lr_auc = roc_auc_score(y_test, predictions_gbc)\n",
    "# summarize scores\n",
    "print('No Skill: ROC AUC=%.3f' % (ns_auc))\n",
    "print('Gradient boosting: ROC AUC=%.3f' % (lr_auc))\n",
    "# calculate roc curves\n",
    "ns_fpr, ns_tpr, _ = roc_curve(y_test, ns_probs)\n",
    "lr_fpr, lr_tpr, _ = roc_curve(y_test, predictions_gbc)\n",
    "# plot the roc curve for the model\n",
    "pyplot.plot(ns_fpr, ns_tpr, linestyle='--', label='No Skill')\n",
    "pyplot.plot(lr_fpr, lr_tpr, marker='.', label='Gradient Boosting')\n",
    "# axis labels\n",
    "pyplot.xlabel('False Positive Rate')\n",
    "pyplot.ylabel('True Positive Rate')\n",
    "# show the legend\n",
    "pyplot.legend()\n",
    "# show the plot\n",
    "pyplot.show()\n",
    "\n",
    "# Using score method to get accuracy of model\n",
    "accu_log = gbcmodel.score(X_test, y_test)\n",
    "#Printing accuracy score\n",
    "print(accu_log)"
   ]
  },
  {
   "cell_type": "markdown",
   "metadata": {},
   "source": [
    "# Tuning of GBC"
   ]
  },
  {
   "cell_type": "code",
   "execution_count": 8,
   "metadata": {},
   "outputs": [
    {
     "name": "stdout",
     "output_type": "stream",
     "text": [
      "Learning rate:  0.05\n",
      "Accuracy score (training): 0.855\n",
      "Accuracy score (validation): 0.782\n",
      "Learning rate:  0.075\n",
      "Accuracy score (training): 0.897\n",
      "Accuracy score (validation): 0.833\n",
      "Learning rate:  0.1\n",
      "Accuracy score (training): 0.936\n",
      "Accuracy score (validation): 0.859\n",
      "Learning rate:  0.2\n",
      "Accuracy score (training): 0.970\n",
      "Accuracy score (validation): 0.897\n",
      "Learning rate:  0.4\n",
      "Accuracy score (training): 0.996\n",
      "Accuracy score (validation): 0.910\n",
      "Learning rate:  0.5\n",
      "Accuracy score (training): 1.000\n",
      "Accuracy score (validation): 0.859\n",
      "Learning rate:  0.75\n",
      "Accuracy score (training): 1.000\n",
      "Accuracy score (validation): 0.833\n",
      "Learning rate:  1\n",
      "Accuracy score (training): 1.000\n",
      "Accuracy score (validation): 0.833\n"
     ]
    }
   ],
   "source": [
    "#https://stackabuse.com/gradient-boosting-classifiers-in-python-with-scikit-learn/#:~:text=Introduction,used%20when%20doing%20gradient%20boosting.\n",
    "learning_rate_list = [0.05, 0.075, 0.1, 0.2, 0.4, 0.5, 0.75, 1]\n",
    "\n",
    "for learning_rate in learning_rate_list:\n",
    "    gbc = GradientBoostingClassifier(n_estimators=100, learning_rate=learning_rate, max_features=2, max_depth=3, random_state=10)\n",
    "    gbc.fit(X_train, y_train)\n",
    "\n",
    "    print(\"Learning rate: \", learning_rate)\n",
    "    print(\"Accuracy score (training): {0:.3f}\".format(gbc.score(X_train, y_train)))\n",
    "    print(\"Accuracy score (validation): {0:.3f}\".format(gbc.score(X_test, y_test)))"
   ]
  },
  {
   "cell_type": "markdown",
   "metadata": {},
   "source": [
    "# Main focused is the accuracy on testing dataset and ls=0.4 is giving us the best performance on training and testing set"
   ]
  },
  {
   "cell_type": "code",
   "execution_count": 9,
   "metadata": {},
   "outputs": [
    {
     "name": "stdout",
     "output_type": "stream",
     "text": [
      "Confusion Matrix:\n",
      "[[20  5]\n",
      " [ 2 51]]\n",
      "Classification Report\n",
      "              precision    recall  f1-score   support\n",
      "\n",
      "           0       0.91      0.80      0.85        25\n",
      "           1       0.91      0.96      0.94        53\n",
      "\n",
      "    accuracy                           0.91        78\n",
      "   macro avg       0.91      0.88      0.89        78\n",
      "weighted avg       0.91      0.91      0.91        78\n",
      "\n"
     ]
    }
   ],
   "source": [
    "#Checking the accuracy by generating confusion matrix\n",
    "\n",
    "gb_clf2 = GradientBoostingClassifier(n_estimators=100, learning_rate=0.4, max_features=2, max_depth=3, random_state=10)\n",
    "gb_clf2.fit(X_train, y_train)\n",
    "predictions = gb_clf2.predict(X_test)\n",
    "\n",
    "print(\"Confusion Matrix:\")\n",
    "print(confusion_matrix(y_test, predictions))\n",
    "\n",
    "print(\"Classification Report\")\n",
    "print(classification_report(y_test, predictions))"
   ]
  },
  {
   "cell_type": "code",
   "execution_count": 10,
   "metadata": {},
   "outputs": [
    {
     "name": "stdout",
     "output_type": "stream",
     "text": [
      "Gradient boosting: ROC AUC=0.881\n"
     ]
    },
    {
     "data": {
      "image/png": "[encoded data removed]",
      "text/plain": [
       "<Figure size 432x288 with 1 Axes>"
      ]
     },
     "metadata": {
      "needs_background": "light"
     },
     "output_type": "display_data"
    }
   ],
   "source": [
    "# calculate scores\n",
    "auc2 = roc_auc_score(y_test, predictions)\n",
    "# summarize scores\n",
    "print('Gradient boosting: ROC AUC=%.3f' % (auc2))\n",
    "# calculate roc curves\n",
    "fpr2, tpr2, _ = roc_curve(y_test, predictions)\n",
    "# plot the roc curve for the model\n",
    "pyplot.plot(fpr2, tpr2, marker='.', label='Gradient Boosting After Tuning')\n",
    "# labels\n",
    "pyplot.xlabel('False Positive')\n",
    "pyplot.ylabel('True Positive')\n",
    "# show legend\n",
    "pyplot.legend()\n",
    "#save the plot\n",
    "plt.savefig('Final_ROC_GBC',dpi=300)\n",
    "# show plot\n",
    "pyplot.show()"
   ]
  },
  {
   "cell_type": "code",
   "execution_count": null,
   "metadata": {},
   "outputs": [],
   "source": []
  }
 ],
 "metadata": {
  "kernelspec": {
   "display_name": "Python 3",
   "language": "python",
   "name": "python3"
  },
  "language_info": {
   "codemirror_mode": {
    "name": "ipython",
    "version": 3
   },
   "file_extension": ".py",
   "mimetype": "text/x-python",
   "name": "python",
   "nbconvert_exporter": "python",
   "pygments_lexer": "ipython3",
   "version": "3.7.6"
  }
 },
 "nbformat": 4,
 "nbformat_minor": 4
}
